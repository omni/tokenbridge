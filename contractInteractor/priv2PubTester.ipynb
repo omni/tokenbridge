{
 "cells": [
  {
   "cell_type": "code",
   "execution_count": 1,
   "id": "metallic-reliance",
   "metadata": {},
   "outputs": [],
   "source": [
    "from web3 import Web3\n",
    "import sys\n",
    "import json\n",
    "from web3.middleware import geth_poa_middleware\n",
    "from config import *"
   ]
  },
  {
   "cell_type": "code",
   "execution_count": 2,
   "id": "dietary-impossible",
   "metadata": {},
   "outputs": [],
   "source": [
    "'''\n",
    "Connects\n",
    "'''\n",
    "# To provider\n",
    "\n",
    "ropstenW3 = Web3(Web3.HTTPProvider(ropstenProvider))\n",
    "quorumW3 = Web3(Web3.HTTPProvider(quorumProvider))\n",
    "quorumW3.middleware_onion.inject(geth_poa_middleware, layer=0) # POA chain need additional middleware\n",
    "\n",
    "# To contracts\n",
    "\n",
    "f = open('./abi/ERC20_ABI.json')\n",
    "abi = json.load(f)\n",
    "quorum20Con = quorumW3.eth.contract(address=quorum20Addr, abi=abi)\n",
    "f.close()\n",
    "\n",
    "f = open('./abi/HOME_AMB_E2E_ABI.json')\n",
    "target = json.load(f)\n",
    "abi = target['contracts']['/contracts/homeAmbE2E_f.sol:HomeAMBErc677ToErc677']['abi']\n",
    "ropstenMedCon = ropstenW3.eth.contract(address=ropstenMedAddr, abi=abi)\n",
    "quorumMedCon = quorumW3.eth.contract(address=quorumMedAddr, abi=abi)\n",
    "f.close()\n",
    "\n",
    "f = open('./abi/PermittableToken_ABI.json')\n",
    "target = json.load(f)\n",
    "abi = target['contracts']['/contracts/PermittableToken_f.sol:PermittableToken']['abi']\n",
    "ropsten677Con = ropstenW3.eth.contract(address=ropsten677Addr, abi=abi)\n",
    "f.close()\n",
    "\n",
    "#f = open('./abi/677ABI.json')\n",
    "#target = json.load(f)\n",
    "#abi = target['contracts']['/contracts/677_f.sol:ERC677']['abi']\n",
    "# only used for filtering event Transfer\n",
    "# home677Con's event Transfer is overloaded, which is not supported by contract.event.<myEvent> object\n",
    "#I677Con = homeW3.eth.contract(address=home677Addr, abi=abi) \n",
    "#f.close()\n",
    "\n",
    "f = open('./abi/HomeAMB_ABI.json')\n",
    "target = json.load(f)\n",
    "abi = target['contracts']['/contracts/HomeAMB_f.sol:HomeAMB']['abi']\n",
    "ropstenBriCon = ropstenW3.eth.contract(address=ropstenBriAddr, abi=abi)\n",
    "f.close()\n",
    "\n",
    "f = open('./abi/ForeignAMB_ABI.json')\n",
    "target = json.load(f)\n",
    "abi = target['contracts']['/contracts/ForeignAMB_f.sol:ForeignAMBWithGasToken']['abi']\n",
    "quorumBriCon = quorumW3.eth.contract(address=quorumBriAddr, abi=abi)\n",
    "f.close()\n",
    "\n",
    "f = open('./abi/Validator_ABI.json')\n",
    "target = json.load(f)\n",
    "abi = target['contracts']['/contracts/BridgeValidators_f.sol:BridgeValidators']['abi']\n",
    "quorumValCon = quorumW3.eth.contract(address=quorumValAddr, abi=abi)\n",
    "ropstenValCon = ropstenW3.eth.contract(address=ropstenValAddr, abi=abi)\n",
    "f.close()"
   ]
  },
  {
   "cell_type": "code",
   "execution_count": 3,
   "id": "grave-voltage",
   "metadata": {},
   "outputs": [
    {
     "name": "stdout",
     "output_type": "stream",
     "text": [
      "ropsten addr1:    27.817708509433984\n",
      "ropsten addr2:    11.963078898662921\n",
      "quorum addr1:     1.0\n",
      "quorum addr2:     3.0\n",
      "quorum mediator:  92.0\n"
     ]
    }
   ],
   "source": [
    "denominator = 10**18\n",
    "print('ropsten addr1:   ', ropsten677Con.functions.balanceOf(addr).call()/denominator)\n",
    "print('ropsten addr2:   ', ropsten677Con.functions.balanceOf(addr2).call()/denominator)\n",
    "print('quorum addr1:    ', quorum20Con.functions.balanceOf(addr).call()/denominator)\n",
    "print('quorum addr2:    ', quorum20Con.functions.balanceOf(addr2).call()/denominator)\n",
    "print('quorum mediator: ', quorum20Con.functions.balanceOf(quorumMedAddr).call()/denominator)"
   ]
  },
  {
   "cell_type": "code",
   "execution_count": 27,
   "id": "numerous-breakfast",
   "metadata": {},
   "outputs": [],
   "source": [
    "tx = quorum20Con.functions.approve(\n",
    "quorumMedAddr,\n",
    "quorumW3.toWei(5, 'ether')\n",
    ").buildTransaction(dict({\n",
    "    'nonce':quorumW3.eth.get_transaction_count(addr),\n",
    "    'chainId':quorumNonce,\n",
    "    'from':addr,\n",
    "})\n",
    ")\n",
    "signed_txn = quorumW3.eth.account.sign_transaction(tx, privKey)\n",
    "tx_hash =  quorumW3.eth.send_raw_transaction(signed_txn.rawTransaction)\n",
    "tx_receipt = quorumW3.eth.wait_for_transaction_receipt(tx_hash)\n",
    "#print(tx_receipt)\n",
    "if(not tx_receipt['status']):\n",
    "    print(tx_receipt)"
   ]
  },
  {
   "cell_type": "code",
   "execution_count": 28,
   "id": "handled-geology",
   "metadata": {},
   "outputs": [],
   "source": [
    "tx = quorumMedCon.functions.relayTokens(\n",
    "addr,\n",
    "quorumW3.toWei(5, 'ether')\n",
    ").buildTransaction(dict({\n",
    "    'nonce':quorumW3.eth.get_transaction_count(addr),\n",
    "    'chainId':quorumNonce,\n",
    "    'from':addr,\n",
    "})\n",
    ")\n",
    "signed_txn = quorumW3.eth.account.sign_transaction(tx, privKey)\n",
    "tx_hash =  quorumW3.eth.send_raw_transaction(signed_txn.rawTransaction)\n",
    "tx_receipt = quorumW3.eth.wait_for_transaction_receipt(tx_hash)\n",
    "#print(tx_receipt)\n",
    "if(not tx_receipt['status']):\n",
    "    print(tx_receipt)"
   ]
  },
  {
   "cell_type": "code",
   "execution_count": 30,
   "id": "outdoor-playlist",
   "metadata": {},
   "outputs": [],
   "source": [
    "tx = quorum20Con.functions.transfer(\n",
    "addr2,\n",
    "quorumW3.toWei(1, 'ether')\n",
    ").buildTransaction(dict({\n",
    "    'nonce':quorumW3.eth.get_transaction_count(addr),\n",
    "    'chainId':quorumNonce,\n",
    "    'from':addr,\n",
    "})\n",
    ")\n",
    "signed_txn = quorumW3.eth.account.sign_transaction(tx, privKey)\n",
    "tx_hash =  quorumW3.eth.send_raw_transaction(signed_txn.rawTransaction)\n",
    "tx_receipt = quorumW3.eth.wait_for_transaction_receipt(tx_hash)\n",
    "#print(tx_receipt)\n",
    "if(not tx_receipt['status']):\n",
    "    print(tx_receipt)"
   ]
  },
  {
   "cell_type": "code",
   "execution_count": 46,
   "id": "protective-solid",
   "metadata": {},
   "outputs": [
    {
     "name": "stdout",
     "output_type": "stream",
     "text": [
      "ropsten addr1:    91.0\n",
      "ropsten addr2:    0.0\n",
      "quorum addr1:     3.0\n",
      "quorum addr2:     0.0\n",
      "quorum mediator:  91.0\n"
     ]
    }
   ],
   "source": [
    "denominator = 10**18\n",
    "print('ropsten addr1:   ', ropsten677Con.functions.balanceOf(addr).call()/denominator)\n",
    "print('ropsten addr2:   ', ropsten677Con.functions.balanceOf(addr2).call()/denominator)\n",
    "print('quorum addr1:    ', quorum20Con.functions.balanceOf(addr).call()/denominator)\n",
    "print('quorum addr2:    ', quorum20Con.functions.balanceOf(addr2).call()/denominator)\n",
    "print('quorum mediator: ', quorum20Con.functions.balanceOf(quorumMedAddr).call()/denominator)"
   ]
  },
  {
   "cell_type": "code",
   "execution_count": null,
   "id": "statewide-receiver",
   "metadata": {},
   "outputs": [],
   "source": [
    "tx = ropsten677Con.functions.transferAndCall(\n",
    "ropstenMedAddr,\n",
    "ropstenW3.toWei(1, 'ether'),\n",
    "\"0x\"\n",
    ").buildTransaction(dict({\n",
    "    'nonce':ropstenW3.eth.get_transaction_count(addr)+10,\n",
    "    'chainId':ropstenNonce,\n",
    "    'from':addr\n",
    "})\n",
    ")\n",
    "signed_txn = ropstenW3.eth.account.sign_transaction(tx, privKey)\n",
    "tx_hash =  ropstenW3.eth.send_raw_transaction(signed_txn.rawTransaction)\n",
    "tx_receipt = ropstenW3.eth.wait_for_transaction_receipt(tx_hash)\n",
    "print(tx_hash)\n",
    "if(not tx_receipt['status']):\n",
    "    print(tx_receipt)"
   ]
  },
  {
   "cell_type": "code",
   "execution_count": 45,
   "id": "photographic-identity",
   "metadata": {},
   "outputs": [
    {
     "name": "stdout",
     "output_type": "stream",
     "text": [
      "ropsten addr1:    6.0\n",
      "ropsten addr2:    0.0\n",
      "quorum addr1:     2.0\n",
      "quorum addr2:     1.0\n",
      "quorum mediator:  91.0\n"
     ]
    }
   ],
   "source": [
    "denominator = 10**18\n",
    "print('ropsten addr1:   ', ropsten677Con.functions.balanceOf(addr).call()/denominator)\n",
    "print('ropsten addr2:   ', ropsten677Con.functions.balanceOf(addr2).call()/denominator)\n",
    "print('quorum addr1:    ', quorum20Con.functions.balanceOf(addr).call()/denominator)\n",
    "print('quorum addr2:    ', quorum20Con.functions.balanceOf(addr2).call()/denominator)\n",
    "print('quorum mediator: ', quorum20Con.functions.balanceOf(quorumMedAddr).call()/denominator)"
   ]
  },
  {
   "cell_type": "code",
   "execution_count": 5,
   "id": "median-drive",
   "metadata": {},
   "outputs": [
    {
     "data": {
      "text/plain": [
       "136"
      ]
     },
     "execution_count": 5,
     "metadata": {},
     "output_type": "execute_result"
    }
   ],
   "source": [
    "ropstenW3.eth.get_transaction_count(addr)\n"
   ]
  },
  {
   "cell_type": "code",
   "execution_count": null,
   "id": "cognitive-cleanup",
   "metadata": {},
   "outputs": [],
   "source": []
  }
 ],
 "metadata": {
  "kernelspec": {
   "display_name": "Python 3",
   "language": "python",
   "name": "python3"
  },
  "language_info": {
   "codemirror_mode": {
    "name": "ipython",
    "version": 3
   },
   "file_extension": ".py",
   "mimetype": "text/x-python",
   "name": "python",
   "nbconvert_exporter": "python",
   "pygments_lexer": "ipython3",
   "version": "3.8.10"
  }
 },
 "nbformat": 4,
 "nbformat_minor": 5
}
